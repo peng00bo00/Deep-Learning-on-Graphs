{
 "cells": [
  {
   "cell_type": "markdown",
   "metadata": {},
   "source": [
    "# 第五次作业"
   ]
  },
  {
   "cell_type": "markdown",
   "metadata": {},
   "source": [
    "本次作业我们强化对GAE和VGAE的实践。具体地，我们用它们来完成（无监督）节点分类任务。"
   ]
  },
  {
   "cell_type": "markdown",
   "metadata": {},
   "source": [
    "## 0. 课后习题"
   ]
  },
  {
   "cell_type": "markdown",
   "metadata": {},
   "source": [
    "1. 图的自编码器和图卷积神经网络的区别是什么？\n",
    "2. 图的变分自编码器比起图的自编码器的优点是什么？"
   ]
  },
  {
   "cell_type": "markdown",
   "metadata": {},
   "source": [
    "## 1. 定义GAE和VGAE\n",
    "首先请同学们定义两个类：GAE和VGAE。"
   ]
  },
  {
   "cell_type": "code",
   "execution_count": 2,
   "metadata": {},
   "outputs": [],
   "source": [
    "class GCNEncoder(torch.nn.Module):\n",
    "    \"\"\"GCN组成的编码器\"\"\"\n",
    "    def __init__(self, in_channels, out_channels):\n",
    "        pass\n",
    "\n",
    "class InnerProductDecoder(torch.nn.Module):\n",
    "    def __init__(self):\n",
    "        pass\n",
    "\n",
    "class GAE(torch.nn.Module):\n",
    "    \"\"\"图自编码器。\n",
    "    \"\"\"\n",
    "    def __init__(self, encoder, decoder=None):\n",
    "        super().__init__()\n",
    "        pass"
   ]
  },
  {
   "cell_type": "code",
   "execution_count": 3,
   "metadata": {},
   "outputs": [],
   "source": [
    "class VariationalGCNEncoder(torch.nn.Module):\n",
    "\n",
    "    def __init__(self, in_channels, out_channels):\n",
    "        pass\n",
    "    \n",
    "class VGAE(GAE): \n",
    "    \"\"\"变分自编码器。继承自GAE这个类，可以使用GAE里面定义的函数。\n",
    "    \"\"\"\n",
    "    \n",
    "    def __init__(self, encoder, decoder=None):\n",
    "        super().__init__(encoder, decoder)\n",
    "        pass"
   ]
  },
  {
   "cell_type": "markdown",
   "metadata": {},
   "source": [
    "## 2. 加载数据集"
   ]
  },
  {
   "cell_type": "markdown",
   "metadata": {},
   "source": [
    "本次作业我们使用Cora数据集。"
   ]
  },
  {
   "cell_type": "code",
   "execution_count": 4,
   "metadata": {},
   "outputs": [],
   "source": [
    "from torch_geometric.datasets import Planetoid\n",
    "\n",
    "dataset = Planetoid(root='./data', name='Cora')# 将数据保存在data文件夹下\n",
    "data = dataset[0]"
   ]
  },
  {
   "cell_type": "markdown",
   "metadata": {},
   "source": [
    "##  3. 训练模型"
   ]
  },
  {
   "cell_type": "markdown",
   "metadata": {},
   "source": [
    "这部分请同学们自由发挥。"
   ]
  },
  {
   "cell_type": "code",
   "execution_count": 5,
   "metadata": {},
   "outputs": [],
   "source": [
    "### 请大家完成下面这个测试函数 ###\n",
    "def train(model, data, epochs=1000, variational=False):\n",
    "    \"\"\"训练模型\n",
    "    \n",
    "    参数说明\n",
    "    ----\n",
    "    model: 模型\n",
    "    data: 数据\n",
    "    epochs: 训练的周期\n",
    "    variational: 是否训练VGAE。如果为True，则计算损失函数的时候需要加上kl loss\n",
    "    \"\"\"\n",
    "    return "
   ]
  },
  {
   "cell_type": "markdown",
   "metadata": {},
   "source": [
    "### 3.1 GAE"
   ]
  },
  {
   "cell_type": "code",
   "execution_count": 6,
   "metadata": {},
   "outputs": [
    {
     "name": "stdout",
     "output_type": "stream",
     "text": [
      "Epoch: 000, Loss_train: 1.3696\n",
      "Epoch: 100, Loss_train: 0.8451\n",
      "Epoch: 200, Loss_train: 0.8140\n",
      "Epoch: 300, Loss_train: 0.8023\n",
      "Epoch: 400, Loss_train: 0.7899\n",
      "Epoch: 500, Loss_train: 0.7936\n",
      "Epoch: 600, Loss_train: 0.7933\n",
      "Epoch: 700, Loss_train: 0.8009\n",
      "Epoch: 800, Loss_train: 0.7886\n",
      "Epoch: 900, Loss_train: 0.7884\n"
     ]
    }
   ],
   "source": [
    "in_channels, out_channels = dataset.num_features, 16\n",
    "device = 'cpu' # device = 'cuda'\n",
    " \n",
    "model = \n",
    "\n",
    "train(model, data, epochs=1000, variational=False)"
   ]
  },
  {
   "cell_type": "markdown",
   "metadata": {},
   "source": [
    "### 3.2 VGAE"
   ]
  },
  {
   "cell_type": "code",
   "execution_count": 8,
   "metadata": {},
   "outputs": [
    {
     "name": "stdout",
     "output_type": "stream",
     "text": [
      "Epoch: 000, Loss_train: 3.3813\n",
      "Epoch: 100, Loss_train: 0.8639\n",
      "Epoch: 200, Loss_train: 0.8309\n",
      "Epoch: 300, Loss_train: 0.8261\n",
      "Epoch: 400, Loss_train: 0.8189\n",
      "Epoch: 500, Loss_train: 0.8189\n",
      "Epoch: 600, Loss_train: 0.8133\n",
      "Epoch: 700, Loss_train: 0.8076\n",
      "Epoch: 800, Loss_train: 0.8179\n",
      "Epoch: 900, Loss_train: 0.8103\n"
     ]
    }
   ],
   "source": [
    "in_channels, out_channels = dataset.num_features, 16\n",
    "device = 'cpu' # device = 'cuda'\n",
    "\n",
    "model = \n",
    "model = model.to(device)\n",
    "\n",
    "train(model, data, epochs=1000, variational=True)"
   ]
  },
  {
   "cell_type": "markdown",
   "metadata": {},
   "source": [
    "## 4. 测试模型"
   ]
  },
  {
   "cell_type": "markdown",
   "metadata": {},
   "source": [
    "训练一个线性模型（比如逻辑回归模型）来预测节点的标签，并输出预测准确率。"
   ]
  },
  {
   "cell_type": "code",
   "execution_count": 10,
   "metadata": {},
   "outputs": [],
   "source": [
    "### 请大家完成下面这个测试函数 ###\n",
    "def evaluate_node_classification(embedding_matrix, labels, train_mask, \n",
    "                                 test_mask, normalize_embedding=True, max_iter=1000):\n",
    "        \n",
    "    \"\"\"训练一个线性模型（比如逻辑回归模型）来预测节点的标签\n",
    "    \n",
    "    返回值说明\n",
    "    ----\n",
    "    preds: 模型预测的标签\n",
    "    test_acc: 模型预测的准确率\n",
    "    \"\"\"\n",
    "    return preds, test_acc"
   ]
  },
  {
   "cell_type": "code",
   "execution_count": 11,
   "metadata": {},
   "outputs": [
    {
     "name": "stdout",
     "output_type": "stream",
     "text": [
      "GAE Test Acc: 0.7120\n"
     ]
    }
   ],
   "source": [
    "preds, test_acc = evaluate_node_classification(embedding_gae, data.y, data.train_mask, data.test_mask)\n",
    "print('GAE Test Acc: %.4f' % test_acc)"
   ]
  },
  {
   "cell_type": "code",
   "execution_count": 12,
   "metadata": {},
   "outputs": [
    {
     "name": "stdout",
     "output_type": "stream",
     "text": [
      "VGAE Test Acc: 0.6760\n"
     ]
    }
   ],
   "source": [
    "preds, test_acc = evaluate_node_classification(embedding_vgae, data.y, data.train_mask, data.test_mask)\n",
    "print('VGAE Test Acc: %.4f' % test_acc)"
   ]
  },
  {
   "cell_type": "markdown",
   "metadata": {},
   "source": [
    "到这里本次作业就结束了。这次的任务其实是无监督的节点分类问题。可以看到，我们会使用一些和前面DeepWalk作业中相似的代码。同学可以讲DeepWalk和GAE/VGAE的结果做一个比较，看看谁在这个任务上效果更好。"
   ]
  }
 ],
 "metadata": {
  "kernelspec": {
   "display_name": "gnn",
   "language": "python",
   "name": "gnn"
  },
  "language_info": {
   "codemirror_mode": {
    "name": "ipython",
    "version": 3
   },
   "file_extension": ".py",
   "mimetype": "text/x-python",
   "name": "python",
   "nbconvert_exporter": "python",
   "pygments_lexer": "ipython3",
   "version": "3.8.11"
  }
 },
 "nbformat": 4,
 "nbformat_minor": 4
}
