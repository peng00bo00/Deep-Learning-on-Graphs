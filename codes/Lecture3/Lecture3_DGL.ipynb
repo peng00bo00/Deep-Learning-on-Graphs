{
 "cells": [
  {
   "cell_type": "markdown",
   "metadata": {},
   "source": [
    "# 第三课：图神经网络"
   ]
  },
  {
   "cell_type": "markdown",
   "metadata": {},
   "source": [
    "图神经网络（Graph Neural Network, GNN）是深度神经网络（Deep Neural Network, DNN）在图数据上的泛化，它是非常强力的图特征提取工具。在本次实践课中，我们将讲解常见的图神经网络比如GCN和GAT，以及如何利用图神经网络来完成节点分类和图分类问题。"
   ]
  },
  {
   "cell_type": "markdown",
   "metadata": {},
   "source": [
    "## 1. GCN"
   ]
  },
  {
   "cell_type": "markdown",
   "metadata": {},
   "source": [
    "### 1.1 用矩阵形式实现GCN"
   ]
  },
  {
   "cell_type": "markdown",
   "metadata": {},
   "source": [
    "首先我们来回顾一下GCN每一层的操作。给定图的邻接矩阵$A$和节点特征矩阵$X$，如果我们用$W$表示GCN层中的参数、$H$表示隐藏层的特征，那么一层GCN中的操作可以表达为$H=\\text{ReLU}(AXW)$。"
   ]
  },
  {
   "cell_type": "code",
   "execution_count": 1,
   "metadata": {},
   "outputs": [],
   "source": [
    "# 导入需要用到的工具包\n",
    "import torch.nn as nn\n",
    "import torch.nn.functional as F\n",
    "import math\n",
    "import torch\n",
    "import torch.optim as optim\n",
    "from torch.nn.parameter import Parameter\n",
    "from sklearn.metrics import f1_score\n",
    "import scipy.sparse as sp\n",
    "import numpy as np"
   ]
  },
  {
   "cell_type": "code",
   "execution_count": 2,
   "metadata": {},
   "outputs": [],
   "source": [
    "class GraphConvolution(nn.Module):\n",
    "    \"\"\"GCN层，参考https://github.com/tkipf/pygcn\n",
    "    \n",
    "    参数说明\n",
    "    ----------\n",
    "    in_features : 输入特征的维度\n",
    "    out_features : 输出神经元的数量，也即类别的数量\n",
    "    with_bias: 是否带有偏置项\n",
    "    \"\"\"\n",
    "\n",
    "    def __init__(self, in_features, out_features, with_bias=True):\n",
    "        super(GraphConvolution, self).__init__()\n",
    "        self.in_features = in_features\n",
    "        self.out_features = out_features\n",
    "        self.weight = Parameter(torch.FloatTensor(in_features, out_features))\n",
    "        if with_bias:\n",
    "            self.bias = Parameter(torch.FloatTensor(out_features))\n",
    "        else:\n",
    "            self.register_parameter('bias', None)\n",
    "        self.reset_parameters()\n",
    "\n",
    "    def reset_parameters(self): \n",
    "        \"\"\"初始化参数\"\"\"\n",
    "        stdv = 1. / math.sqrt(self.weight.size(1))\n",
    "        self.weight.data.uniform_(-stdv, stdv)\n",
    "        if self.bias is not None:\n",
    "            self.bias.data.uniform_(-stdv, stdv)\n",
    "\n",
    "    def forward(self, x, adj):\n",
    "        \"\"\"前向传播\"\"\"\n",
    "        if x.data.is_sparse:\n",
    "            support = torch.spmm(x, self.weight) # XW\n",
    "        else:\n",
    "            support = torch.mm(x, self.weight) # XW\n",
    "        output = torch.spmm(adj, support) # AXW\n",
    "        if self.bias is not None:\n",
    "            return output + self.bias # AXW + b\n",
    "        else:\n",
    "            return output # AXW"
   ]
  },
  {
   "cell_type": "code",
   "execution_count": 3,
   "metadata": {},
   "outputs": [],
   "source": [
    "class GCN(nn.Module):\n",
    "    \"\"\" 2层GCN\n",
    "    \n",
    "    参数说明\n",
    "    ----------\n",
    "    nfeat : 输入特征的维度\n",
    "    nhid : 隐藏神经元的数量\n",
    "    nclass : 输出神经元的数量，也即类别的数量\n",
    "    dropout : dropout中的概率\n",
    "    with_bias: 是否带有偏置项\n",
    "    \"\"\"\n",
    "\n",
    "    def __init__(self, nfeat, nhid, nclass, dropout=0.5, with_bias=True):\n",
    "\n",
    "        super(GCN, self).__init__()\n",
    "\n",
    "        self.nfeat = nfeat\n",
    "        self.hidden_sizes = [nhid]\n",
    "        self.nclass = nclass\n",
    "        self.gc1 = GraphConvolution(nfeat, nhid, with_bias=with_bias)\n",
    "        self.gc2 = GraphConvolution(nhid, nclass, with_bias=with_bias)\n",
    "        self.dropout = dropout\n",
    "\n",
    "    def forward(self, x, adj):\n",
    "        x = F.relu(self.gc1(x, adj))\n",
    "        x = F.dropout(x, self.dropout, training=self.training)\n",
    "        x = self.gc2(x, adj)\n",
    "        return F.log_softmax(x, dim=1)\n",
    "\n",
    "    def initialize(self):\n",
    "        \"\"\"初始化每一层的参数\"\"\"\n",
    "        self.gc1.reset_parameters()\n",
    "        self.gc2.reset_parameters()"
   ]
  },
  {
   "cell_type": "markdown",
   "metadata": {},
   "source": [
    "定义好GCN模型后，我们来简单看看怎么使用这个模型。我们继续以Cora数据集为例。"
   ]
  },
  {
   "cell_type": "code",
   "execution_count": 4,
   "metadata": {},
   "outputs": [
    {
     "name": "stderr",
     "output_type": "stream",
     "text": [
      "Using backend: pytorch\n"
     ]
    },
    {
     "name": "stdout",
     "output_type": "stream",
     "text": [
      "  NumNodes: 2708\n",
      "  NumEdges: 10556\n",
      "  NumFeats: 1433\n",
      "  NumClasses: 7\n",
      "  NumTrainingSamples: 140\n",
      "  NumValidationSamples: 500\n",
      "  NumTestSamples: 1000\n",
      "Done loading data from cached files.\n"
     ]
    }
   ],
   "source": [
    "# from torch_geometric.datasets import Planetoid\n",
    "# from torch_geometric.utils import to_scipy_sparse_matrix\n",
    "# dataset = Planetoid(root='./data', name='Cora') # 将数据保存在data文件夹下\n",
    "# data = dataset[0]\n",
    "# adj = to_scipy_sparse_matrix(data.edge_index)\n",
    "# features = data.x\n",
    "# labels = data.y\n",
    "\n",
    "from dgl.data import CoraGraphDataset\n",
    "\n",
    "dataset = CoraGraphDataset('./data') # 将数据保存在data文件夹下\n",
    "g = dataset[0]\n",
    "adj = g.adj(scipy_fmt='coo')\n",
    "\n",
    "features = g.ndata['feat']\n",
    "labels = g.ndata['label']"
   ]
  },
  {
   "cell_type": "code",
   "execution_count": 5,
   "metadata": {},
   "outputs": [
    {
     "data": {
      "text/plain": [
       "<2708x2708 sparse matrix of type '<class 'numpy.int64'>'\n",
       "\twith 10556 stored elements in COOrdinate format>"
      ]
     },
     "execution_count": 5,
     "metadata": {},
     "output_type": "execute_result"
    }
   ],
   "source": [
    "adj"
   ]
  },
  {
   "cell_type": "code",
   "execution_count": 6,
   "metadata": {},
   "outputs": [
    {
     "data": {
      "text/plain": [
       "tensor([[0.0000, 0.0000, 0.0000,  ..., 0.0000, 0.0000, 0.0000],\n",
       "        [0.0000, 0.0000, 0.0000,  ..., 0.0000, 0.0000, 0.0000],\n",
       "        [0.0000, 0.0000, 0.0000,  ..., 0.0000, 0.0000, 0.0000],\n",
       "        ...,\n",
       "        [0.0000, 0.0000, 0.0000,  ..., 0.0000, 0.0000, 0.0000],\n",
       "        [0.0000, 0.0000, 0.0000,  ..., 0.0000, 0.0000, 0.0000],\n",
       "        [0.0000, 0.0000, 0.0000,  ..., 0.0000, 0.0526, 0.0000]])"
      ]
     },
     "execution_count": 6,
     "metadata": {},
     "output_type": "execute_result"
    }
   ],
   "source": [
    "features"
   ]
  },
  {
   "cell_type": "markdown",
   "metadata": {},
   "source": [
    "接下来我们对邻接矩阵adj进行标准化（normalize）： \n",
    "\n",
    "$A \\leftarrow A + I$\n",
    "\n",
    "$\\hat{A}= D^{-1/2}{A}D^{-1/2}$ "
   ]
  },
  {
   "cell_type": "code",
   "execution_count": 7,
   "metadata": {},
   "outputs": [],
   "source": [
    "def normalize_adj(mx):\n",
    "    \"\"\"标准化：A' = (D + I)^-1/2 * ( A + I ) * (D + I)^-1/2\n",
    "    \"\"\"\n",
    "    mx = mx + sp.eye(mx.shape[0])\n",
    "    rowsum = np.array(mx.sum(1))\n",
    "    r_inv = np.power(rowsum, -1/2).flatten()\n",
    "    r_inv[np.isinf(r_inv)] = 0.\n",
    "    r_mat_inv = sp.diags(r_inv)\n",
    "    mx = r_mat_inv.dot(mx)\n",
    "    mx = mx.dot(r_mat_inv)\n",
    "    return mx"
   ]
  },
  {
   "cell_type": "code",
   "execution_count": 8,
   "metadata": {},
   "outputs": [
    {
     "data": {
      "text/plain": [
       "<2708x2708 sparse matrix of type '<class 'numpy.float64'>'\n",
       "\twith 13264 stored elements in Compressed Sparse Row format>"
      ]
     },
     "execution_count": 8,
     "metadata": {},
     "output_type": "execute_result"
    }
   ],
   "source": [
    "adj_norm = normalize_adj(adj)\n",
    "adj_norm"
   ]
  },
  {
   "cell_type": "code",
   "execution_count": 9,
   "metadata": {},
   "outputs": [],
   "source": [
    "def sparse_mx_to_torch_sparse_tensor(sparse_mx):\n",
    "    \"\"\"将scipy.sparse形式的稀疏矩阵变成torch里的sparse tensor\"\"\"\n",
    "    sparse_mx = sparse_mx.tocoo().astype(np.float32)\n",
    "    sparserow=torch.LongTensor(sparse_mx.row).unsqueeze(1)\n",
    "    sparsecol=torch.LongTensor(sparse_mx.col).unsqueeze(1)\n",
    "    sparseconcat=torch.cat((sparserow, sparsecol),1)\n",
    "    sparsedata=torch.FloatTensor(sparse_mx.data)\n",
    "    return torch.sparse.FloatTensor(sparseconcat.t(),sparsedata,torch.Size(sparse_mx.shape))"
   ]
  },
  {
   "cell_type": "code",
   "execution_count": 10,
   "metadata": {},
   "outputs": [
    {
     "data": {
      "text/plain": [
       "tensor(indices=tensor([[   0,    1,    2,  ..., 2707, 2706, 2707],\n",
       "                       [   0,    0,    0,  ..., 2706, 2707, 2707]]),\n",
       "       values=tensor([0.1667, 0.1826, 0.1826,  ..., 0.5000, 0.5000, 0.5000]),\n",
       "       size=(2708, 2708), nnz=13264, layout=torch.sparse_coo)"
      ]
     },
     "execution_count": 10,
     "metadata": {},
     "output_type": "execute_result"
    }
   ],
   "source": [
    "adj_norm = sparse_mx_to_torch_sparse_tensor(adj_norm)\n",
    "adj_norm"
   ]
  },
  {
   "cell_type": "code",
   "execution_count": 11,
   "metadata": {},
   "outputs": [
    {
     "name": "stdout",
     "output_type": "stream",
     "text": [
      "torch.Size([2708, 7])\n",
      "tensor([[-1.7090, -1.9622, -2.3084,  ..., -2.1719, -1.7673, -1.6742],\n",
      "        [-1.7079, -1.9401, -2.3090,  ..., -2.1890, -1.7691, -1.6775],\n",
      "        [-1.7079, -1.9407, -2.3082,  ..., -2.1895, -1.7691, -1.6779],\n",
      "        ...,\n",
      "        [-1.6835, -1.9160, -2.3251,  ..., -2.2217, -1.7799, -1.6721],\n",
      "        [-1.7754, -1.9977, -2.2810,  ..., -2.0962, -1.7679, -1.6695],\n",
      "        [-1.7754, -1.9977, -2.2810,  ..., -2.0962, -1.7679, -1.6695]],\n",
      "       grad_fn=<LogSoftmaxBackward>)\n"
     ]
    }
   ],
   "source": [
    "nclass = labels.max().item()+1\n",
    "model = GCN(nfeat=features.shape[1], nhid=16, nclass=nclass)\n",
    "output = model(features, adj_norm)\n",
    "print(output.shape)\n",
    "print(output)"
   ]
  },
  {
   "cell_type": "markdown",
   "metadata": {},
   "source": [
    "### 1.2 DGL实现GCN"
   ]
  },
  {
   "cell_type": "markdown",
   "metadata": {},
   "source": [
    "在这个小节，我们通过DGL来实现GCN。DGL中GCN的实现与上面用矩阵乘法的实现的核心不同是：\n",
    "\n",
    "*DGL中，对`graph`是核心数据结构，GNN的操作是对`graph`进行，而不是`torch.SparseTensor`。*\n"
   ]
  },
  {
   "cell_type": "markdown",
   "metadata": {},
   "source": [
    "#### 1.2.1 直接调用DGL提供的接口"
   ]
  },
  {
   "cell_type": "code",
   "execution_count": 12,
   "metadata": {},
   "outputs": [],
   "source": [
    "from dgl.nn import GraphConv\n",
    "\n",
    "class GCN(torch.nn.Module):\n",
    "    \"\"\" 2层GCN\n",
    "    \n",
    "    参数说明\n",
    "    ----------\n",
    "    nfeat : 输入特征的维度\n",
    "    nhid : 隐藏神经元的数量\n",
    "    nclass : 输出神经元的数量，也即类别的数量\n",
    "    dropout : dropout中的概率\n",
    "    with_bias: 是否带有偏置项\n",
    "    \"\"\"\n",
    "\n",
    "    def __init__(self, nfeat, nhid, nclass, dropout=0.5, with_bias=True):\n",
    "        super(GCN, self).__init__()\n",
    "        \"\"\"DGL的GraphConv允许传入Activation函数\"\"\"\n",
    "        self.conv1 = GraphConv(nfeat, nhid, bias=with_bias, activation=F.relu)\n",
    "        self.conv2 = GraphConv(nhid, nclass, bias=with_bias)\n",
    "        self.dropout = dropout\n",
    "        \n",
    "    def reset_parameters(self):\n",
    "        \"\"\"初始化模型参数\"\"\"\n",
    "        self.conv1.reset_parameters()\n",
    "        self.conv2.reset_parameters()\n",
    "\n",
    "    def forward(self, g, features):\n",
    "        \"\"\"模型前向传播\"\"\"\n",
    "        h = self.conv1(g, features)\n",
    "        h = F.dropout(h, p=self.dropout, training=self.training)\n",
    "        h = self.conv2(g, h)\n",
    "        return F.log_softmax(h, dim=1)"
   ]
  },
  {
   "cell_type": "code",
   "execution_count": 13,
   "metadata": {},
   "outputs": [
    {
     "name": "stdout",
     "output_type": "stream",
     "text": [
      "tensor([[-1.9511, -1.9457, -1.9431,  ..., -1.9465, -1.9508, -1.9402],\n",
      "        [-1.9496, -1.9450, -1.9438,  ..., -1.9460, -1.9501, -1.9420],\n",
      "        [-1.9496, -1.9450, -1.9438,  ..., -1.9460, -1.9501, -1.9420],\n",
      "        ...,\n",
      "        [-1.9476, -1.9420, -1.9433,  ..., -1.9512, -1.9502, -1.9412],\n",
      "        [-1.9428, -1.9403, -1.9379,  ..., -1.9637, -1.9732, -1.9233],\n",
      "        [-1.9424, -1.9503, -1.9428,  ..., -1.9636, -1.9556, -1.9316]],\n",
      "       grad_fn=<LogSoftmaxBackward>)\n",
      "torch.Size([2708, 7])\n"
     ]
    }
   ],
   "source": [
    "nclass = labels.max().item()+1\n",
    "model = GCN(nfeat=features.shape[1], nhid=16, nclass=nclass)\n",
    "output = model(g, features)\n",
    "print(output)\n",
    "print(output.shape)"
   ]
  },
  {
   "cell_type": "markdown",
   "metadata": {},
   "source": [
    "#### 1.2.2 详细讲解`GraphConv`内部结构"
   ]
  },
  {
   "cell_type": "markdown",
   "metadata": {},
   "source": [
    "下面这部分代码来自DGL中的[graphconv.py](https://github.com/dmlc/dgl/blob/master/python/dgl/nn/pytorch/conv/graphconv.py#L141)，这里做了一些修改（删除了一些不重要的变量和更高级选项逻辑的代码）来让它更简洁易懂。"
   ]
  },
  {
   "cell_type": "code",
   "execution_count": 14,
   "metadata": {},
   "outputs": [],
   "source": [
    "import torch as th\n",
    "from torch import nn\n",
    "from torch.nn import init\n",
    "from dgl import function as fn\n",
    "from dgl.utils import expand_as_pair\n",
    "\n",
    "\n",
    "class GraphConv(nn.Module):\n",
    "    def __init__(self,\n",
    "                 in_feats,           # 输入的维度\n",
    "                 out_feats,          # 输出的维度\n",
    "                 bias=True,          # 是否使用bias\n",
    "                 activation=None):   # 使用哪种激活函数\n",
    "        super(GraphConv, self).__init__()\n",
    "        self._in_feats = in_feats\n",
    "        self._out_feats = out_feats\n",
    "        # 设定维度变换权重\n",
    "        self.weight = nn.Parameter(th.Tensor(in_feats, out_feats))\n",
    "        # 设定bias\n",
    "        if bias:\n",
    "            self.bias = nn.Parameter(th.Tensor(out_feats))\n",
    "        else:\n",
    "            self.register_parameter('bias', None)\n",
    "        # 重新初始化参数\n",
    "        self.reset_parameters()\n",
    "        # 设定激活函数\n",
    "        self._activation = activation\n",
    "\n",
    "    def reset_parameters(self):\n",
    "        if self.weight is not None:\n",
    "            init.xavier_uniform_(self.weight)\n",
    "        if self.bias is not None:\n",
    "            init.zeros_(self.bias)\n",
    "\n",
    "    def forward(self, graph, feat):\n",
    "\n",
    "        with graph.local_scope():\n",
    "            # GCN的消息传递函数就是复制邻居的特征\n",
    "            msg_fn = fn.copy_src('h', 'm')\n",
    "            \n",
    "            # 对节点的特征按出度进行标准化\n",
    "            feat_src, feat_dst = expand_as_pair(feat, graph)\n",
    "            degs = graph.out_degrees().float().clamp(min=1)\n",
    "            norm = th.pow(degs, -0.5)\n",
    "            shp = norm.shape + (1,) * (feat_src.dim() - 1)\n",
    "            norm = th.reshape(norm, shp)\n",
    "            feat_src = feat_src * norm\n",
    "            # 先进行维度变换，并送进图里的节点\n",
    "            feat_src = th.matmul(feat_src, self.weight)\n",
    "            graph.srcdata['h'] = feat_src\n",
    "            # DGL最核心的消息传递+聚合更新的函数\n",
    "            graph.update_all(msg_fn, fn.sum(msg='m', out='h'))\n",
    "            # 从图里把计算后的特征取出\n",
    "            rst = graph.dstdata['h']\n",
    "            \n",
    "            # 再对节点的特征按入度进行标准化\n",
    "            degs = graph.in_degrees().float().clamp(min=1)\n",
    "            norm = th.pow(degs, -0.5)\n",
    "            shp = norm.shape + (1,) * (feat_dst.dim() - 1)\n",
    "            norm = th.reshape(norm, shp)\n",
    "            rst = rst * norm\n",
    "\n",
    "            if self.bias is not None:\n",
    "                rst = rst + self.bias\n",
    "\n",
    "            if self._activation is not None:\n",
    "                rst = self._activation(rst)\n",
    "\n",
    "            return rst"
   ]
  },
  {
   "cell_type": "markdown",
   "metadata": {},
   "source": [
    "这里有几个需要注意的地方：\n",
    "\n",
    "1. `foward()`函数中需要使用`fn.copy_src()`在节点之间进行信息的传递。`fn.copy_src()`是DGL内置的多种消息函数之一。它的输入是源节点数据(一个字典)里以`h`为键的值, 输出是`m`，这是一个在边上数据(一个字典)的字典，字典的键为`m`。\n",
    "1. `fn.sum()`函数是DGL内置的聚合函数之一，它把来自边上数据`m`在目标节点上加和，成为目标节点数据(一个字典)，字典的键为`h`。\n",
    "1. 如果同学们需要设计自己的GNN模型的话，通常是改变`消息`和`聚合`函数。更多关于DGL内置的消息函数和聚合函数可以在[DGL built-in functions](https://docs.dgl.ai/api/python/dgl.function.html#dgl-built-in-function)里看到。\n",
    "1. 对于DGL的GraphConv的细节，可以在[dgl.nn.graphconv](https://docs.dgl.ai/api/python/nn.pytorch.html#graphconv)找到。\n"
   ]
  },
  {
   "cell_type": "markdown",
   "metadata": {},
   "source": [
    "## 2. GAT"
   ]
  },
  {
   "cell_type": "code",
   "execution_count": 15,
   "metadata": {},
   "outputs": [],
   "source": [
    "from dgl.nn import GATConv\n",
    "\n",
    "class GAT(nn.Module):\n",
    "    \"\"\" 2层GAT.\n",
    "    \n",
    "    参数说明\n",
    "    ----------\n",
    "    nfeat : 输入特征的维度\n",
    "    nhid : 隐藏神经元的数量\n",
    "    nclass : 输出神经元的数量，也即类别的数量\n",
    "    heads: 注意力机制中的head数量\n",
    "    output_heads: 输出曾的head数量\n",
    "    dropout : dropout中的概率\n",
    "    acitvation: 使用哪种激活函数\n",
    "    with_bias: 是否带有偏置项\n",
    "    \"\"\"\n",
    "\n",
    "    def __init__(self, nfeat, nhid, nclass, heads=8, output_heads=1, dropout=0.5, activation=F.elu, with_bias=True):\n",
    "\n",
    "        super(GAT, self).__init__()\n",
    "\n",
    "        self.conv1 = GATConv(\n",
    "            nfeat,\n",
    "            nhid,\n",
    "            num_heads=heads,\n",
    "            feat_drop=dropout,\n",
    "            attn_drop=dropout,\n",
    "            activation=activation,\n",
    "            bias=with_bias)\n",
    "\n",
    "        self.conv2 = GATConv(\n",
    "            nhid * heads,\n",
    "            nclass,\n",
    "            num_heads=output_heads,\n",
    "            activation=activation,\n",
    "            bias=with_bias)\n",
    "\n",
    "    def forward(self, g, features):\n",
    "        h = self.conv1(g, features).flatten(1)\n",
    "        h = self.conv2(g, h).flatten(1)\n",
    "        return F.log_softmax(h, dim=1)\n",
    "\n",
    "    def initialize(self):\n",
    "        \"\"\"Initialize parameters of GAT.\n",
    "        \"\"\"\n",
    "        self.conv1.reset_parameters()\n",
    "        self.conv2.reset_parameters()"
   ]
  },
  {
   "cell_type": "code",
   "execution_count": 16,
   "metadata": {},
   "outputs": [
    {
     "name": "stdout",
     "output_type": "stream",
     "text": [
      "tensor([[-1.9266, -1.9182, -1.9704,  ..., -1.9462, -1.9466, -1.9489],\n",
      "        [-1.9317, -1.9254, -1.9696,  ..., -1.9398, -1.9374, -1.9540],\n",
      "        [-1.9317, -1.9254, -1.9696,  ..., -1.9398, -1.9374, -1.9540],\n",
      "        ...,\n",
      "        [-1.9587, -1.9125, -1.9627,  ..., -1.9213, -1.9911, -1.9382],\n",
      "        [-1.9206, -1.9218, -1.9345,  ..., -1.9404, -1.9536, -1.9917],\n",
      "        [-1.9357, -1.9402, -1.9163,  ..., -1.9766, -1.9607, -1.9502]],\n",
      "       grad_fn=<LogSoftmaxBackward>)\n",
      "torch.Size([2708, 7])\n"
     ]
    }
   ],
   "source": [
    "gat = GAT(nfeat=features.shape[1],\n",
    "      nhid=8, nclass=nclass, heads=8)\n",
    "output = gat(g, features)\n",
    "print(output)\n",
    "print(output.shape)"
   ]
  },
  {
   "cell_type": "markdown",
   "metadata": {},
   "source": [
    "关于`GATConv`的具体实现，参见[gatconv.py](https://github.com/dmlc/dgl/blob/master/python/dgl/nn/pytorch/conv/gatconv.py#L13)。学有余力的同学可以尝试理解下其中`消息`和`聚合`函数的实现。\n",
    "\n",
    "简单来讲，\n",
    "1. `GATConv`里的`edge_softmax()`函数实现了注意力分数（attention score），这个分数就是`alpha`，它是每个相连接的节点对的拼接后的特征通过一个线性层得到的。`alpha`的值会作为边的数据(一个字典)，字典的键值为`a`。\n",
    "2. 在得到`alpha`值后，在进行消息传递时，会使用DGL的内置消息函数`fn.u_mul_e()`把源节点的特征乘上`alpha`之后，在作为消息传送到边上的数据(一个字典)，字典的键是`ft`。然后再使用聚合函数`fn.sum()`完成对边上数据的加和。"
   ]
  },
  {
   "cell_type": "markdown",
   "metadata": {},
   "source": [
    "## 3. 利用GCN完成节点分类任务"
   ]
  },
  {
   "cell_type": "markdown",
   "metadata": {},
   "source": [
    "关于节点分类任务，其实我们在上一次课（图嵌入）的时候已经有了初步的接触：我们用DeepWalk对Cora数据集上的节点进行了分类。在这里，我们同样以Cora数据集为例，来展示如何进行节点分类。"
   ]
  },
  {
   "cell_type": "code",
   "execution_count": 17,
   "metadata": {},
   "outputs": [],
   "source": [
    "def train(model, g, lr=0.01, weight_decay=5e-4, epochs=200):\n",
    "    optimizer = optim.Adam(model.parameters(), lr=lr, weight_decay=weight_decay)\n",
    "    features = g.ndata['feat']\n",
    "    labels = g.ndata['label']\n",
    "    train_mask = g.ndata['train_mask']\n",
    "    best_loss_val = 100\n",
    "\n",
    "    for i in range(epochs):\n",
    "        model.train()\n",
    "        optimizer.zero_grad()\n",
    "        output = model(g, features)\n",
    "\n",
    "        loss = F.nll_loss(output[train_mask], labels[train_mask]) # 用训练集中的节点来计算损失函数\n",
    "        loss.backward()\n",
    "        optimizer.step()\n",
    "\n",
    "        if i % 10 == 0:\n",
    "            print('Epoch {}, training loss: {}'.format(i, loss.item()))\n",
    "\n",
    "@torch.no_grad()\n",
    "def test(model, g):\n",
    "    \"\"\"Evaluate GAT performance on test set.\n",
    "\n",
    "    \"\"\"\n",
    "    model.eval()\n",
    "    features = g.ndata['feat']\n",
    "    test_mask = g.ndata['test_mask']\n",
    "    labels = g.ndata['label']\n",
    "    output = model(g, features) # 得到模型输出\n",
    "    loss_test = F.nll_loss(output[test_mask], labels[test_mask])\n",
    "    preds = output[test_mask].argmax(1) # 得到预测值\n",
    "    acc_test = preds.eq(labels[test_mask]).cpu().numpy().mean() # 得到准确率\n",
    "    print(\"Test set results:\",\n",
    "          \"loss= {:.4f}\".format(loss_test.item()),\n",
    "          \"accuracy= {:.4f}\".format(acc_test))\n",
    "    return preds, output, acc_test.item()"
   ]
  },
  {
   "cell_type": "code",
   "execution_count": 18,
   "metadata": {},
   "outputs": [
    {
     "name": "stdout",
     "output_type": "stream",
     "text": [
      "Epoch 0, training loss: 1.946737289428711\n",
      "Epoch 10, training loss: 1.8724168539047241\n",
      "Epoch 20, training loss: 1.7379851341247559\n",
      "Epoch 30, training loss: 1.57542085647583\n",
      "Epoch 40, training loss: 1.3598436117172241\n",
      "Epoch 50, training loss: 1.1718695163726807\n",
      "Epoch 60, training loss: 0.9612340927124023\n",
      "Epoch 70, training loss: 0.843425452709198\n",
      "Epoch 80, training loss: 0.7324897646903992\n",
      "Epoch 90, training loss: 0.6498505473136902\n"
     ]
    }
   ],
   "source": [
    "model = GCN(nfeat=features.shape[1], nhid=16, nclass=nclass)\n",
    "# 将模型放到gpu/cpu上，默认是cpu\n",
    "device = 'cpu' # device ='cuda'\n",
    "model = model.to(device)\n",
    "g = g.to(device)\n",
    "train(model, g, epochs=100)"
   ]
  },
  {
   "cell_type": "code",
   "execution_count": 19,
   "metadata": {},
   "outputs": [
    {
     "name": "stdout",
     "output_type": "stream",
     "text": [
      "Test set results: loss= 1.0519 accuracy= 0.7970\n"
     ]
    }
   ],
   "source": [
    "preds, output, acc = test(model, g)"
   ]
  },
  {
   "cell_type": "markdown",
   "metadata": {},
   "source": [
    "接下来我们使用tsne对得到的输出进行降维并可视化。"
   ]
  },
  {
   "cell_type": "code",
   "execution_count": 20,
   "metadata": {},
   "outputs": [
    {
     "name": "stderr",
     "output_type": "stream",
     "text": [
      "In /Users/jamezhan/anaconda3/envs/dgl/lib/python3.6/site-packages/matplotlib/mpl-data/stylelib/_classic_test.mplstyle: \n",
      "The text.latex.preview rcparam was deprecated in Matplotlib 3.3 and will be removed two minor releases later.\n",
      "In /Users/jamezhan/anaconda3/envs/dgl/lib/python3.6/site-packages/matplotlib/mpl-data/stylelib/_classic_test.mplstyle: \n",
      "The mathtext.fallback_to_cm rcparam was deprecated in Matplotlib 3.3 and will be removed two minor releases later.\n",
      "In /Users/jamezhan/anaconda3/envs/dgl/lib/python3.6/site-packages/matplotlib/mpl-data/stylelib/_classic_test.mplstyle: Support for setting the 'mathtext.fallback_to_cm' rcParam is deprecated since 3.3 and will be removed two minor releases later; use 'mathtext.fallback : 'cm' instead.\n",
      "In /Users/jamezhan/anaconda3/envs/dgl/lib/python3.6/site-packages/matplotlib/mpl-data/stylelib/_classic_test.mplstyle: \n",
      "The validate_bool_maybe_none function was deprecated in Matplotlib 3.3 and will be removed two minor releases later.\n",
      "In /Users/jamezhan/anaconda3/envs/dgl/lib/python3.6/site-packages/matplotlib/mpl-data/stylelib/_classic_test.mplstyle: \n",
      "The savefig.jpeg_quality rcparam was deprecated in Matplotlib 3.3 and will be removed two minor releases later.\n",
      "In /Users/jamezhan/anaconda3/envs/dgl/lib/python3.6/site-packages/matplotlib/mpl-data/stylelib/_classic_test.mplstyle: \n",
      "The keymap.all_axes rcparam was deprecated in Matplotlib 3.3 and will be removed two minor releases later.\n",
      "In /Users/jamezhan/anaconda3/envs/dgl/lib/python3.6/site-packages/matplotlib/mpl-data/stylelib/_classic_test.mplstyle: \n",
      "The animation.avconv_path rcparam was deprecated in Matplotlib 3.3 and will be removed two minor releases later.\n",
      "In /Users/jamezhan/anaconda3/envs/dgl/lib/python3.6/site-packages/matplotlib/mpl-data/stylelib/_classic_test.mplstyle: \n",
      "The animation.avconv_args rcparam was deprecated in Matplotlib 3.3 and will be removed two minor releases later.\n"
     ]
    },
    {
     "data": {
      "image/png": "[encoded data removed]",
      "text/plain": [
       "<Figure size 432x432 with 1 Axes>"
      ]
     },
     "metadata": {
      "needs_background": "light"
     },
     "output_type": "display_data"
    }
   ],
   "source": [
    "from bhtsne import tsne\n",
    "import matplotlib.pyplot as plt\n",
    "def plot_points(colors, embedding):\n",
    "    z = tsne(embedding.astype('float64'))\n",
    "    y = g.ndata['label'].numpy()\n",
    "\n",
    "    plt.figure(figsize=(6, 6))\n",
    "    for i in range(dataset.num_classes):\n",
    "        plt.scatter(z[y == i, 0], z[y == i, 1], s=20, color=colors[i])\n",
    "    plt.axis('off')\n",
    "    plt.show()\n",
    "\n",
    "colors = [\n",
    "    '#ffc0cb', '#bada55', '#008080', '#420420', '#7fe5f0', '#065535',\n",
    "    '#ffd700'\n",
    "]\n",
    "plot_points(colors, output.cpu().numpy())"
   ]
  },
  {
   "cell_type": "markdown",
   "metadata": {},
   "source": [
    "不难看出，得到的节点嵌入的分离度非常高，大家可以将这幅图和第二次实践课上的deepwalk得到的图进行对比。"
   ]
  },
  {
   "cell_type": "markdown",
   "metadata": {},
   "source": [
    "## 4. 利用GCN完成图分类任务"
   ]
  },
  {
   "cell_type": "markdown",
   "metadata": {},
   "source": [
    "在这一节中，我们将使用GCN完成图分类任务。"
   ]
  },
  {
   "cell_type": "markdown",
   "metadata": {},
   "source": [
    "### 4.1 图分类数据集介绍"
   ]
  },
  {
   "cell_type": "markdown",
   "metadata": {},
   "source": [
    "图分类任务中，每张图都对应了一个标签，节点是不对应标签的。本小节我们以ENZYMES数据集为例来介绍图分类任务。"
   ]
  },
  {
   "cell_type": "code",
   "execution_count": 21,
   "metadata": {},
   "outputs": [],
   "source": [
    "from dgl.data import TUDataset\n",
    "dataset = TUDataset(name='ENZYMES', raw_dir='./data/ENZYMES')"
   ]
  },
  {
   "cell_type": "code",
   "execution_count": 22,
   "metadata": {},
   "outputs": [
    {
     "name": "stdout",
     "output_type": "stream",
     "text": [
      "<dgl.data.tu.TUDataset object at 0x7fa3f873e208>\n",
      "600\n"
     ]
    }
   ],
   "source": [
    "print(dataset)\n",
    "print(len(dataset))"
   ]
  },
  {
   "cell_type": "markdown",
   "metadata": {},
   "source": [
    "我们可以看到ENZYMES数据集一共有600张图。下面让我们取出第一张图来看看："
   ]
  },
  {
   "cell_type": "code",
   "execution_count": 23,
   "metadata": {},
   "outputs": [
    {
     "name": "stdout",
     "output_type": "stream",
     "text": [
      "Graph(num_nodes=37, num_edges=168,\n",
      "      ndata_schemes={'_ID': Scheme(shape=(), dtype=torch.int64), 'node_attr': Scheme(shape=(18,), dtype=torch.float64), 'node_labels': Scheme(shape=(1,), dtype=torch.int64)}\n",
      "      edata_schemes={'_ID': Scheme(shape=(), dtype=torch.int64)})\n",
      "tensor([5])\n"
     ]
    }
   ],
   "source": [
    "g, label = dataset[0]\n",
    "print(g)\n",
    "print(label)"
   ]
  },
  {
   "cell_type": "markdown",
   "metadata": {},
   "source": [
    "这张图中共有168条边，37个节点，以及一个标签5。这个标签代表的是这个图的标签，因为该数据集属于图分类数据集。"
   ]
  },
  {
   "cell_type": "markdown",
   "metadata": {},
   "source": [
    "### 4.2 图分类任务实践"
   ]
  },
  {
   "cell_type": "code",
   "execution_count": 30,
   "metadata": {},
   "outputs": [],
   "source": [
    "from dgl.nn.pytorch.glob import AvgPooling \n",
    "\n",
    "class GCN(torch.nn.Module):\n",
    "    \"\"\"3层GCN+1层线性层\"\"\"\n",
    "\n",
    "    def __init__(self, nfeat, nhid, nclass, dropout=0.2):\n",
    "        super(GCN, self).__init__()\n",
    "        \n",
    "        self.gc1 = GraphConv(nfeat, nhid, activation=F.relu)\n",
    "        self.gc2 = GraphConv(nhid, nhid, activation=F.relu)\n",
    "        self.gc3 = GraphConv(nhid, nhid, activation=F.relu)\n",
    "        self.lin = nn.Linear(nhid, nclass)\n",
    "        self.avgpool = AvgPooling()\n",
    "        self.dropout = dropout\n",
    "\n",
    "    def forward(self, g, features):\n",
    "        \"\"\"模型前向传播\"\"\"\n",
    "        h = self.gc1(g, features)\n",
    "        h = F.dropout(h, p=self.dropout, training=self.training)\n",
    "        h = self.gc2(g, h)\n",
    "        h = F.dropout(h, p=self.dropout, training=self.training)\n",
    "        h = self.gc3(g, h)\n",
    "        h = self.avgpool(g, h)\n",
    "        h = self.lin(h)\n",
    "        return F.log_softmax(h, dim=1)"
   ]
  },
  {
   "cell_type": "code",
   "execution_count": 31,
   "metadata": {
    "scrolled": false
   },
   "outputs": [],
   "source": [
    "from dgl.dataloading import GraphDataLoader\n",
    "from dgl.data import TUDataset\n",
    "from torch.utils.data import random_split\n",
    "\n",
    "dataset = TUDataset(name='ENZYMES', raw_dir='./data/ENZYMES')\n",
    "\n",
    "# 获取train和test的样本数量\n",
    "train_num = int(0.8 * len(dataset))\n",
    "test_num = int(0.2 * len(dataset))\n",
    "\n",
    "# 使用Pytorch的random_split获取train和test的Dataset类\n",
    "train_dataset, test_dataset = random_split(dataset, [train_num, test_num])\n",
    "\n",
    "# 使用DGL的GraphDataLoader构建迷你批次数据\n",
    "train_loader = GraphDataLoader(train_dataset, batch_size=64, shuffle=True)\n",
    "test_loader = GraphDataLoader(test_dataset, batch_size=64)"
   ]
  },
  {
   "cell_type": "code",
   "execution_count": 32,
   "metadata": {},
   "outputs": [],
   "source": [
    "# 从一个样本图里获取特征维度\n",
    "g0, lable0 = dataset[0]\n",
    "nfeat = g0.ndata['node_attr'].shape[1]\n",
    "nclass = labels.max().numpy() + 1\n",
    "nhid = 64\n",
    "device = 'cpu'\n",
    "# device = ‘cuda’ # 如果有CUDA的话\n",
    "\n",
    "model = GCN(nfeat, nhid, nclass).to(device)"
   ]
  },
  {
   "cell_type": "code",
   "execution_count": 33,
   "metadata": {},
   "outputs": [],
   "source": [
    "def train(model, lr=0.001, epochs=1000):\n",
    "    optimizer = torch.optim.Adam(model.parameters(), lr=lr)\n",
    "    for epoch in range(epochs):\n",
    "        model.train()\n",
    "        loss_all = 0\n",
    "        for batch_graphs, batch_labels in train_loader:\n",
    "            # 每个批次里获取特征和处理标签\n",
    "            batch_graphs = batch_graphs.to(device)\n",
    "            features = batch_graphs.ndata['node_attr'].float()\n",
    "            batch_labels = batch_labels.squeeze(dim=1)\n",
    "            \n",
    "            optimizer.zero_grad()\n",
    "            # 前向传播\n",
    "            preds = model(batch_graphs, features)\n",
    "            # 计算损失\n",
    "            loss = F.nll_loss(preds, batch_labels)\n",
    "            loss.backward()\n",
    "            loss_all += loss.item() * batch_labels.shape[0]\n",
    "            # 反向传播\n",
    "            optimizer.step()\n",
    "            \n",
    "        loss_train = loss_all / train_num \n",
    "        if epoch % 100 == 0:\n",
    "            print('Epoch: {:03d}, Loss: {:.7f}'.format(epoch, loss_train))\n",
    "\n",
    "def test(model, valid_loader):\n",
    "    model.eval()\n",
    "    correct = 0\n",
    "    for batch_graphs, batch_labels in valid_loader:\n",
    "\n",
    "        batch_graphs = batch_graphs.to(device)\n",
    "        features = batch_graphs.ndata['node_attr'].float()\n",
    "        batch_labels = batch_labels.squeeze(dim=1)\n",
    "\n",
    "        pred = model(batch_graphs, features)\n",
    "        correct += float(th.sum(th.argmax(pred,dim=1) == batch_labels).item())\n",
    "    return correct / test_num"
   ]
  },
  {
   "cell_type": "code",
   "execution_count": 34,
   "metadata": {},
   "outputs": [
    {
     "name": "stdout",
     "output_type": "stream",
     "text": [
      "Epoch: 000, Loss: 2.0806363\n",
      "Epoch: 100, Loss: 1.4864711\n",
      "Epoch: 200, Loss: 1.1935936\n",
      "Epoch: 300, Loss: 0.9288415\n",
      "Epoch: 400, Loss: 0.7452060\n",
      "Epoch: 500, Loss: 0.6061079\n",
      "Epoch: 600, Loss: 0.4944332\n",
      "Epoch: 700, Loss: 0.4028859\n",
      "Epoch: 800, Loss: 0.3201658\n",
      "Epoch: 900, Loss: 0.2730209\n"
     ]
    }
   ],
   "source": [
    "train(model, epochs=1000)"
   ]
  },
  {
   "cell_type": "code",
   "execution_count": 35,
   "metadata": {},
   "outputs": [
    {
     "data": {
      "text/plain": [
       "0.6416666666666667"
      ]
     },
     "execution_count": 35,
     "metadata": {},
     "output_type": "execute_result"
    }
   ],
   "source": [
    "test(model, test_loader)"
   ]
  },
  {
   "cell_type": "code",
   "execution_count": null,
   "metadata": {},
   "outputs": [],
   "source": []
  }
 ],
 "metadata": {
  "kernelspec": {
   "display_name": "Python [conda env:dgl]",
   "language": "python",
   "name": "conda-env-dgl-py"
  },
  "language_info": {
   "codemirror_mode": {
    "name": "ipython",
    "version": 3
   },
   "file_extension": ".py",
   "mimetype": "text/x-python",
   "name": "python",
   "nbconvert_exporter": "python",
   "pygments_lexer": "ipython3",
   "version": "3.6.10"
  }
 },
 "nbformat": 4,
 "nbformat_minor": 4
}
